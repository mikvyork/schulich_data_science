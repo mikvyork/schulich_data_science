{
 "cells": [
  {
   "cell_type": "code",
   "execution_count": 1,
   "id": "8a78e017",
   "metadata": {},
   "outputs": [],
   "source": [
    "\n",
    "import pandas as pd \n",
    "import seaborn as sns\n",
    "import numpy as np \n",
    "import matplotlib.pyplot as plt"
   ]
  },
  {
   "cell_type": "code",
   "execution_count": 2,
   "id": "d2e41540",
   "metadata": {},
   "outputs": [
    {
     "name": "stderr",
     "output_type": "stream",
     "text": [
      "C:\\Users\\andno\\AppData\\Local\\Temp\\ipykernel_150464\\3635436358.py:1: DtypeWarning: Columns (154) have mixed types. Specify dtype option on import or set low_memory=False.\n",
      "  df = pd.read_csv(\"https://raw.githubusercontent.com/mikvyork/schulich_data_science/refs/heads/main/mmai500_proposal/Data-ATP-W119-PEW.csv\")\n"
     ]
    }
   ],
   "source": [
    "df = pd.read_csv(\"https://raw.githubusercontent.com/mikvyork/schulich_data_science/refs/heads/main/mmai500_proposal/Data-ATP-W119-PEW.csv\")\n"
   ]
  },
  {
   "cell_type": "code",
   "execution_count": 3,
   "id": "048cacb8",
   "metadata": {},
   "outputs": [
    {
     "data": {
      "text/html": [
       "<div>\n",
       "<style scoped>\n",
       "    .dataframe tbody tr th:only-of-type {\n",
       "        vertical-align: middle;\n",
       "    }\n",
       "\n",
       "    .dataframe tbody tr th {\n",
       "        vertical-align: top;\n",
       "    }\n",
       "\n",
       "    .dataframe thead th {\n",
       "        text-align: right;\n",
       "    }\n",
       "</style>\n",
       "<table border=\"1\" class=\"dataframe\">\n",
       "  <thead>\n",
       "    <tr style=\"text-align: right;\">\n",
       "      <th></th>\n",
       "      <th>QKEY</th>\n",
       "      <th>INTERVIEW_START_W119</th>\n",
       "      <th>INTERVIEW_END_W119</th>\n",
       "      <th>DEVICE_TYPE_W119</th>\n",
       "      <th>LANG_W119</th>\n",
       "      <th>FORM_W119</th>\n",
       "      <th>DESRISK_COMF_W119</th>\n",
       "      <th>DESRISK_CREAT_W119</th>\n",
       "      <th>DESRISK_NTECH_W119</th>\n",
       "      <th>RISK2_W119</th>\n",
       "      <th>...</th>\n",
       "      <th>F_PARTYLN_FINAL</th>\n",
       "      <th>F_PARTYSUM_FINAL</th>\n",
       "      <th>F_PARTYSUMIDEO_FINAL</th>\n",
       "      <th>F_REG</th>\n",
       "      <th>F_INC_SDT1</th>\n",
       "      <th>F_IDEO</th>\n",
       "      <th>F_INTFREQ</th>\n",
       "      <th>F_VOLSUM</th>\n",
       "      <th>F_INC_TIER2</th>\n",
       "      <th>WEIGHT_W119</th>\n",
       "    </tr>\n",
       "  </thead>\n",
       "  <tbody>\n",
       "    <tr>\n",
       "      <th>0</th>\n",
       "      <td>100314</td>\n",
       "      <td>12/13/2022 23:12:27</td>\n",
       "      <td>12/13/2022 23:23:59</td>\n",
       "      <td>2</td>\n",
       "      <td>1</td>\n",
       "      <td>1</td>\n",
       "      <td>4</td>\n",
       "      <td>3</td>\n",
       "      <td>4</td>\n",
       "      <td>2</td>\n",
       "      <td>...</td>\n",
       "      <td></td>\n",
       "      <td>1</td>\n",
       "      <td>1</td>\n",
       "      <td>1</td>\n",
       "      <td>4</td>\n",
       "      <td>2</td>\n",
       "      <td>5</td>\n",
       "      <td>1</td>\n",
       "      <td>2</td>\n",
       "      <td>0.522544</td>\n",
       "    </tr>\n",
       "    <tr>\n",
       "      <th>1</th>\n",
       "      <td>100363</td>\n",
       "      <td>12/13/2022 19:50:59</td>\n",
       "      <td>12/13/2022 20:05:29</td>\n",
       "      <td>2</td>\n",
       "      <td>1</td>\n",
       "      <td>2</td>\n",
       "      <td>3</td>\n",
       "      <td>3</td>\n",
       "      <td>2</td>\n",
       "      <td>1</td>\n",
       "      <td>...</td>\n",
       "      <td></td>\n",
       "      <td>2</td>\n",
       "      <td>3</td>\n",
       "      <td>1</td>\n",
       "      <td>9</td>\n",
       "      <td>3</td>\n",
       "      <td>2</td>\n",
       "      <td>1</td>\n",
       "      <td>3</td>\n",
       "      <td>0.382610</td>\n",
       "    </tr>\n",
       "    <tr>\n",
       "      <th>2</th>\n",
       "      <td>100598</td>\n",
       "      <td>12/14/2022 16:30:21</td>\n",
       "      <td>12/14/2022 16:47:21</td>\n",
       "      <td>1</td>\n",
       "      <td>1</td>\n",
       "      <td>1</td>\n",
       "      <td>4</td>\n",
       "      <td>4</td>\n",
       "      <td>3</td>\n",
       "      <td>2</td>\n",
       "      <td>...</td>\n",
       "      <td></td>\n",
       "      <td>1</td>\n",
       "      <td>1</td>\n",
       "      <td>1</td>\n",
       "      <td>9</td>\n",
       "      <td>2</td>\n",
       "      <td>2</td>\n",
       "      <td>1</td>\n",
       "      <td>3</td>\n",
       "      <td>0.432799</td>\n",
       "    </tr>\n",
       "    <tr>\n",
       "      <th>3</th>\n",
       "      <td>100637</td>\n",
       "      <td>12/14/2022 08:22:09</td>\n",
       "      <td>12/14/2022 08:33:45</td>\n",
       "      <td>1</td>\n",
       "      <td>1</td>\n",
       "      <td>2</td>\n",
       "      <td>2</td>\n",
       "      <td>1</td>\n",
       "      <td>3</td>\n",
       "      <td>2</td>\n",
       "      <td>...</td>\n",
       "      <td>1</td>\n",
       "      <td>1</td>\n",
       "      <td>1</td>\n",
       "      <td>1</td>\n",
       "      <td>5</td>\n",
       "      <td>2</td>\n",
       "      <td>3</td>\n",
       "      <td>2</td>\n",
       "      <td>2</td>\n",
       "      <td>0.671114</td>\n",
       "    </tr>\n",
       "    <tr>\n",
       "      <th>4</th>\n",
       "      <td>100803</td>\n",
       "      <td>12/15/2022 09:05:46</td>\n",
       "      <td>12/15/2022 09:22:29</td>\n",
       "      <td>1</td>\n",
       "      <td>1</td>\n",
       "      <td>2</td>\n",
       "      <td>3</td>\n",
       "      <td>3</td>\n",
       "      <td>4</td>\n",
       "      <td>1</td>\n",
       "      <td>...</td>\n",
       "      <td></td>\n",
       "      <td>1</td>\n",
       "      <td>1</td>\n",
       "      <td>1</td>\n",
       "      <td>9</td>\n",
       "      <td>2</td>\n",
       "      <td>4</td>\n",
       "      <td>1</td>\n",
       "      <td>3</td>\n",
       "      <td>0.196177</td>\n",
       "    </tr>\n",
       "    <tr>\n",
       "      <th>5</th>\n",
       "      <td>101224</td>\n",
       "      <td>12/13/2022 15:01:14</td>\n",
       "      <td>12/13/2022 15:40:02</td>\n",
       "      <td>2</td>\n",
       "      <td>1</td>\n",
       "      <td>2</td>\n",
       "      <td>3</td>\n",
       "      <td>5</td>\n",
       "      <td>5</td>\n",
       "      <td>1</td>\n",
       "      <td>...</td>\n",
       "      <td></td>\n",
       "      <td>1</td>\n",
       "      <td>1</td>\n",
       "      <td>1</td>\n",
       "      <td>4</td>\n",
       "      <td>2</td>\n",
       "      <td>5</td>\n",
       "      <td>1</td>\n",
       "      <td>2</td>\n",
       "      <td>0.585774</td>\n",
       "    </tr>\n",
       "    <tr>\n",
       "      <th>6</th>\n",
       "      <td>101437</td>\n",
       "      <td>12/13/2022 22:27:08</td>\n",
       "      <td>12/13/2022 22:53:04</td>\n",
       "      <td>1</td>\n",
       "      <td>1</td>\n",
       "      <td>2</td>\n",
       "      <td>4</td>\n",
       "      <td>3</td>\n",
       "      <td>4</td>\n",
       "      <td>1</td>\n",
       "      <td>...</td>\n",
       "      <td></td>\n",
       "      <td>1</td>\n",
       "      <td>1</td>\n",
       "      <td>1</td>\n",
       "      <td>1</td>\n",
       "      <td>1</td>\n",
       "      <td>2</td>\n",
       "      <td>2</td>\n",
       "      <td>1</td>\n",
       "      <td>0.521549</td>\n",
       "    </tr>\n",
       "    <tr>\n",
       "      <th>7</th>\n",
       "      <td>101493</td>\n",
       "      <td>12/13/2022 16:12:32</td>\n",
       "      <td>12/17/2022 21:55:46</td>\n",
       "      <td>1</td>\n",
       "      <td>1</td>\n",
       "      <td>2</td>\n",
       "      <td>2</td>\n",
       "      <td>2</td>\n",
       "      <td>1</td>\n",
       "      <td>1</td>\n",
       "      <td>...</td>\n",
       "      <td></td>\n",
       "      <td>1</td>\n",
       "      <td>1</td>\n",
       "      <td>1</td>\n",
       "      <td>7</td>\n",
       "      <td>2</td>\n",
       "      <td>2</td>\n",
       "      <td>2</td>\n",
       "      <td>2</td>\n",
       "      <td>0.466191</td>\n",
       "    </tr>\n",
       "    <tr>\n",
       "      <th>8</th>\n",
       "      <td>102198</td>\n",
       "      <td>12/15/2022 15:50:44</td>\n",
       "      <td>12/16/2022 17:19:44</td>\n",
       "      <td>1</td>\n",
       "      <td>1</td>\n",
       "      <td>2</td>\n",
       "      <td>3</td>\n",
       "      <td>2</td>\n",
       "      <td>3</td>\n",
       "      <td>1</td>\n",
       "      <td>...</td>\n",
       "      <td></td>\n",
       "      <td>1</td>\n",
       "      <td>1</td>\n",
       "      <td>1</td>\n",
       "      <td>8</td>\n",
       "      <td>2</td>\n",
       "      <td>1</td>\n",
       "      <td>1</td>\n",
       "      <td>2</td>\n",
       "      <td>0.982541</td>\n",
       "    </tr>\n",
       "    <tr>\n",
       "      <th>9</th>\n",
       "      <td>103060</td>\n",
       "      <td>12/13/2022 23:51:38</td>\n",
       "      <td>12/15/2022 12:07:45</td>\n",
       "      <td>2</td>\n",
       "      <td>1</td>\n",
       "      <td>1</td>\n",
       "      <td>4</td>\n",
       "      <td>2</td>\n",
       "      <td>3</td>\n",
       "      <td>1</td>\n",
       "      <td>...</td>\n",
       "      <td></td>\n",
       "      <td>2</td>\n",
       "      <td>4</td>\n",
       "      <td>1</td>\n",
       "      <td>99</td>\n",
       "      <td>4</td>\n",
       "      <td>2</td>\n",
       "      <td>2</td>\n",
       "      <td>99</td>\n",
       "      <td>0.421830</td>\n",
       "    </tr>\n",
       "  </tbody>\n",
       "</table>\n",
       "<p>10 rows × 156 columns</p>\n",
       "</div>"
      ],
      "text/plain": [
       "     QKEY INTERVIEW_START_W119   INTERVIEW_END_W119  DEVICE_TYPE_W119  \\\n",
       "0  100314  12/13/2022 23:12:27  12/13/2022 23:23:59                 2   \n",
       "1  100363  12/13/2022 19:50:59  12/13/2022 20:05:29                 2   \n",
       "2  100598  12/14/2022 16:30:21  12/14/2022 16:47:21                 1   \n",
       "3  100637  12/14/2022 08:22:09  12/14/2022 08:33:45                 1   \n",
       "4  100803  12/15/2022 09:05:46  12/15/2022 09:22:29                 1   \n",
       "5  101224  12/13/2022 15:01:14  12/13/2022 15:40:02                 2   \n",
       "6  101437  12/13/2022 22:27:08  12/13/2022 22:53:04                 1   \n",
       "7  101493  12/13/2022 16:12:32  12/17/2022 21:55:46                 1   \n",
       "8  102198  12/15/2022 15:50:44  12/16/2022 17:19:44                 1   \n",
       "9  103060  12/13/2022 23:51:38  12/15/2022 12:07:45                 2   \n",
       "\n",
       "   LANG_W119  FORM_W119  DESRISK_COMF_W119  DESRISK_CREAT_W119  \\\n",
       "0          1          1                  4                   3   \n",
       "1          1          2                  3                   3   \n",
       "2          1          1                  4                   4   \n",
       "3          1          2                  2                   1   \n",
       "4          1          2                  3                   3   \n",
       "5          1          2                  3                   5   \n",
       "6          1          2                  4                   3   \n",
       "7          1          2                  2                   2   \n",
       "8          1          2                  3                   2   \n",
       "9          1          1                  4                   2   \n",
       "\n",
       "   DESRISK_NTECH_W119  RISK2_W119  ...  F_PARTYLN_FINAL  F_PARTYSUM_FINAL  \\\n",
       "0                   4           2  ...                                  1   \n",
       "1                   2           1  ...                                  2   \n",
       "2                   3           2  ...                                  1   \n",
       "3                   3           2  ...                1                 1   \n",
       "4                   4           1  ...                                  1   \n",
       "5                   5           1  ...                                  1   \n",
       "6                   4           1  ...                                  1   \n",
       "7                   1           1  ...                                  1   \n",
       "8                   3           1  ...                                  1   \n",
       "9                   3           1  ...                                  2   \n",
       "\n",
       "   F_PARTYSUMIDEO_FINAL  F_REG  F_INC_SDT1  F_IDEO  F_INTFREQ  F_VOLSUM  \\\n",
       "0                     1      1           4       2          5         1   \n",
       "1                     3      1           9       3          2         1   \n",
       "2                     1      1           9       2          2         1   \n",
       "3                     1      1           5       2          3         2   \n",
       "4                     1      1           9       2          4         1   \n",
       "5                     1      1           4       2          5         1   \n",
       "6                     1      1           1       1          2         2   \n",
       "7                     1      1           7       2          2         2   \n",
       "8                     1      1           8       2          1         1   \n",
       "9                     4      1          99       4          2         2   \n",
       "\n",
       "   F_INC_TIER2  WEIGHT_W119  \n",
       "0            2     0.522544  \n",
       "1            3     0.382610  \n",
       "2            3     0.432799  \n",
       "3            2     0.671114  \n",
       "4            3     0.196177  \n",
       "5            2     0.585774  \n",
       "6            1     0.521549  \n",
       "7            2     0.466191  \n",
       "8            2     0.982541  \n",
       "9           99     0.421830  \n",
       "\n",
       "[10 rows x 156 columns]"
      ]
     },
     "execution_count": 3,
     "metadata": {},
     "output_type": "execute_result"
    }
   ],
   "source": [
    "# DATA EXPLORATION\n",
    "df.head(10)"
   ]
  },
  {
   "cell_type": "code",
   "execution_count": 4,
   "id": "7ea25568",
   "metadata": {},
   "outputs": [
    {
     "data": {
      "text/html": [
       "<div>\n",
       "<style scoped>\n",
       "    .dataframe tbody tr th:only-of-type {\n",
       "        vertical-align: middle;\n",
       "    }\n",
       "\n",
       "    .dataframe tbody tr th {\n",
       "        vertical-align: top;\n",
       "    }\n",
       "\n",
       "    .dataframe thead th {\n",
       "        text-align: right;\n",
       "    }\n",
       "</style>\n",
       "<table border=\"1\" class=\"dataframe\">\n",
       "  <thead>\n",
       "    <tr style=\"text-align: right;\">\n",
       "      <th></th>\n",
       "      <th>QKEY</th>\n",
       "      <th>DEVICE_TYPE_W119</th>\n",
       "      <th>LANG_W119</th>\n",
       "      <th>FORM_W119</th>\n",
       "      <th>DESRISK_COMF_W119</th>\n",
       "      <th>DESRISK_CREAT_W119</th>\n",
       "      <th>DESRISK_NTECH_W119</th>\n",
       "      <th>RISK2_W119</th>\n",
       "      <th>AI_HEARD_W119</th>\n",
       "      <th>CNCEXC_W119</th>\n",
       "      <th>...</th>\n",
       "      <th>F_RELIG</th>\n",
       "      <th>F_RELIGCAT1</th>\n",
       "      <th>F_ATTEND</th>\n",
       "      <th>F_PARTY_FINAL</th>\n",
       "      <th>F_PARTYSUM_FINAL</th>\n",
       "      <th>F_PARTYSUMIDEO_FINAL</th>\n",
       "      <th>F_INC_SDT1</th>\n",
       "      <th>F_IDEO</th>\n",
       "      <th>F_VOLSUM</th>\n",
       "      <th>WEIGHT_W119</th>\n",
       "    </tr>\n",
       "  </thead>\n",
       "  <tbody>\n",
       "    <tr>\n",
       "      <th>count</th>\n",
       "      <td>1.100400e+04</td>\n",
       "      <td>11004.000000</td>\n",
       "      <td>11004.000000</td>\n",
       "      <td>11004.000000</td>\n",
       "      <td>11004.000000</td>\n",
       "      <td>11004.000000</td>\n",
       "      <td>11004.000000</td>\n",
       "      <td>11004.000000</td>\n",
       "      <td>11004.000000</td>\n",
       "      <td>11004.000000</td>\n",
       "      <td>...</td>\n",
       "      <td>11004.000000</td>\n",
       "      <td>11004.000000</td>\n",
       "      <td>11004.000000</td>\n",
       "      <td>11004.000000</td>\n",
       "      <td>11004.000000</td>\n",
       "      <td>11004.000000</td>\n",
       "      <td>11004.000000</td>\n",
       "      <td>11004.000000</td>\n",
       "      <td>11004.000000</td>\n",
       "      <td>11004.000000</td>\n",
       "    </tr>\n",
       "    <tr>\n",
       "      <th>mean</th>\n",
       "      <td>1.772323e+11</td>\n",
       "      <td>1.677027</td>\n",
       "      <td>1.039804</td>\n",
       "      <td>1.499182</td>\n",
       "      <td>2.989549</td>\n",
       "      <td>2.391130</td>\n",
       "      <td>2.582697</td>\n",
       "      <td>2.383588</td>\n",
       "      <td>1.911123</td>\n",
       "      <td>3.113413</td>\n",
       "      <td>...</td>\n",
       "      <td>5.228553</td>\n",
       "      <td>2.670029</td>\n",
       "      <td>4.390858</td>\n",
       "      <td>3.019538</td>\n",
       "      <td>1.740912</td>\n",
       "      <td>2.729008</td>\n",
       "      <td>10.047801</td>\n",
       "      <td>4.810251</td>\n",
       "      <td>1.882134</td>\n",
       "      <td>1.000000</td>\n",
       "    </tr>\n",
       "    <tr>\n",
       "      <th>std</th>\n",
       "      <td>6.611107e+10</td>\n",
       "      <td>0.524606</td>\n",
       "      <td>0.195507</td>\n",
       "      <td>0.500022</td>\n",
       "      <td>2.593657</td>\n",
       "      <td>2.431065</td>\n",
       "      <td>2.788196</td>\n",
       "      <td>9.631999</td>\n",
       "      <td>2.688112</td>\n",
       "      <td>8.834480</td>\n",
       "      <td>...</td>\n",
       "      <td>8.846445</td>\n",
       "      <td>7.884602</td>\n",
       "      <td>5.301660</td>\n",
       "      <td>9.056001</td>\n",
       "      <td>1.337942</td>\n",
       "      <td>1.732756</td>\n",
       "      <td>20.467926</td>\n",
       "      <td>13.402154</td>\n",
       "      <td>5.185202</td>\n",
       "      <td>1.150309</td>\n",
       "    </tr>\n",
       "    <tr>\n",
       "      <th>min</th>\n",
       "      <td>1.003140e+05</td>\n",
       "      <td>1.000000</td>\n",
       "      <td>1.000000</td>\n",
       "      <td>1.000000</td>\n",
       "      <td>1.000000</td>\n",
       "      <td>1.000000</td>\n",
       "      <td>1.000000</td>\n",
       "      <td>1.000000</td>\n",
       "      <td>1.000000</td>\n",
       "      <td>1.000000</td>\n",
       "      <td>...</td>\n",
       "      <td>1.000000</td>\n",
       "      <td>1.000000</td>\n",
       "      <td>1.000000</td>\n",
       "      <td>1.000000</td>\n",
       "      <td>1.000000</td>\n",
       "      <td>1.000000</td>\n",
       "      <td>1.000000</td>\n",
       "      <td>1.000000</td>\n",
       "      <td>1.000000</td>\n",
       "      <td>0.008109</td>\n",
       "    </tr>\n",
       "    <tr>\n",
       "      <th>25%</th>\n",
       "      <td>2.018010e+11</td>\n",
       "      <td>1.000000</td>\n",
       "      <td>1.000000</td>\n",
       "      <td>1.000000</td>\n",
       "      <td>2.000000</td>\n",
       "      <td>2.000000</td>\n",
       "      <td>2.000000</td>\n",
       "      <td>1.000000</td>\n",
       "      <td>1.000000</td>\n",
       "      <td>2.000000</td>\n",
       "      <td>...</td>\n",
       "      <td>1.000000</td>\n",
       "      <td>1.000000</td>\n",
       "      <td>2.000000</td>\n",
       "      <td>1.000000</td>\n",
       "      <td>1.000000</td>\n",
       "      <td>1.000000</td>\n",
       "      <td>3.000000</td>\n",
       "      <td>2.000000</td>\n",
       "      <td>1.000000</td>\n",
       "      <td>0.397223</td>\n",
       "    </tr>\n",
       "    <tr>\n",
       "      <th>50%</th>\n",
       "      <td>2.018012e+11</td>\n",
       "      <td>2.000000</td>\n",
       "      <td>1.000000</td>\n",
       "      <td>1.000000</td>\n",
       "      <td>3.000000</td>\n",
       "      <td>2.000000</td>\n",
       "      <td>3.000000</td>\n",
       "      <td>1.000000</td>\n",
       "      <td>2.000000</td>\n",
       "      <td>2.000000</td>\n",
       "      <td>...</td>\n",
       "      <td>2.000000</td>\n",
       "      <td>2.000000</td>\n",
       "      <td>5.000000</td>\n",
       "      <td>2.000000</td>\n",
       "      <td>2.000000</td>\n",
       "      <td>3.000000</td>\n",
       "      <td>6.000000</td>\n",
       "      <td>3.000000</td>\n",
       "      <td>2.000000</td>\n",
       "      <td>0.634431</td>\n",
       "    </tr>\n",
       "    <tr>\n",
       "      <th>75%</th>\n",
       "      <td>2.020010e+11</td>\n",
       "      <td>2.000000</td>\n",
       "      <td>1.000000</td>\n",
       "      <td>2.000000</td>\n",
       "      <td>4.000000</td>\n",
       "      <td>3.000000</td>\n",
       "      <td>3.000000</td>\n",
       "      <td>2.000000</td>\n",
       "      <td>2.000000</td>\n",
       "      <td>3.000000</td>\n",
       "      <td>...</td>\n",
       "      <td>10.000000</td>\n",
       "      <td>3.000000</td>\n",
       "      <td>6.000000</td>\n",
       "      <td>3.000000</td>\n",
       "      <td>2.000000</td>\n",
       "      <td>4.000000</td>\n",
       "      <td>9.000000</td>\n",
       "      <td>4.000000</td>\n",
       "      <td>2.000000</td>\n",
       "      <td>1.093206</td>\n",
       "    </tr>\n",
       "    <tr>\n",
       "      <th>max</th>\n",
       "      <td>2.022011e+11</td>\n",
       "      <td>3.000000</td>\n",
       "      <td>2.000000</td>\n",
       "      <td>2.000000</td>\n",
       "      <td>99.000000</td>\n",
       "      <td>99.000000</td>\n",
       "      <td>99.000000</td>\n",
       "      <td>99.000000</td>\n",
       "      <td>99.000000</td>\n",
       "      <td>99.000000</td>\n",
       "      <td>...</td>\n",
       "      <td>99.000000</td>\n",
       "      <td>99.000000</td>\n",
       "      <td>99.000000</td>\n",
       "      <td>99.000000</td>\n",
       "      <td>9.000000</td>\n",
       "      <td>9.000000</td>\n",
       "      <td>99.000000</td>\n",
       "      <td>99.000000</td>\n",
       "      <td>99.000000</td>\n",
       "      <td>7.195378</td>\n",
       "    </tr>\n",
       "  </tbody>\n",
       "</table>\n",
       "<p>8 rows × 105 columns</p>\n",
       "</div>"
      ],
      "text/plain": [
       "               QKEY  DEVICE_TYPE_W119     LANG_W119     FORM_W119  \\\n",
       "count  1.100400e+04      11004.000000  11004.000000  11004.000000   \n",
       "mean   1.772323e+11          1.677027      1.039804      1.499182   \n",
       "std    6.611107e+10          0.524606      0.195507      0.500022   \n",
       "min    1.003140e+05          1.000000      1.000000      1.000000   \n",
       "25%    2.018010e+11          1.000000      1.000000      1.000000   \n",
       "50%    2.018012e+11          2.000000      1.000000      1.000000   \n",
       "75%    2.020010e+11          2.000000      1.000000      2.000000   \n",
       "max    2.022011e+11          3.000000      2.000000      2.000000   \n",
       "\n",
       "       DESRISK_COMF_W119  DESRISK_CREAT_W119  DESRISK_NTECH_W119  \\\n",
       "count       11004.000000        11004.000000        11004.000000   \n",
       "mean            2.989549            2.391130            2.582697   \n",
       "std             2.593657            2.431065            2.788196   \n",
       "min             1.000000            1.000000            1.000000   \n",
       "25%             2.000000            2.000000            2.000000   \n",
       "50%             3.000000            2.000000            3.000000   \n",
       "75%             4.000000            3.000000            3.000000   \n",
       "max            99.000000           99.000000           99.000000   \n",
       "\n",
       "         RISK2_W119  AI_HEARD_W119   CNCEXC_W119  ...       F_RELIG  \\\n",
       "count  11004.000000   11004.000000  11004.000000  ...  11004.000000   \n",
       "mean       2.383588       1.911123      3.113413  ...      5.228553   \n",
       "std        9.631999       2.688112      8.834480  ...      8.846445   \n",
       "min        1.000000       1.000000      1.000000  ...      1.000000   \n",
       "25%        1.000000       1.000000      2.000000  ...      1.000000   \n",
       "50%        1.000000       2.000000      2.000000  ...      2.000000   \n",
       "75%        2.000000       2.000000      3.000000  ...     10.000000   \n",
       "max       99.000000      99.000000     99.000000  ...     99.000000   \n",
       "\n",
       "        F_RELIGCAT1      F_ATTEND  F_PARTY_FINAL  F_PARTYSUM_FINAL  \\\n",
       "count  11004.000000  11004.000000   11004.000000      11004.000000   \n",
       "mean       2.670029      4.390858       3.019538          1.740912   \n",
       "std        7.884602      5.301660       9.056001          1.337942   \n",
       "min        1.000000      1.000000       1.000000          1.000000   \n",
       "25%        1.000000      2.000000       1.000000          1.000000   \n",
       "50%        2.000000      5.000000       2.000000          2.000000   \n",
       "75%        3.000000      6.000000       3.000000          2.000000   \n",
       "max       99.000000     99.000000      99.000000          9.000000   \n",
       "\n",
       "       F_PARTYSUMIDEO_FINAL    F_INC_SDT1        F_IDEO      F_VOLSUM  \\\n",
       "count          11004.000000  11004.000000  11004.000000  11004.000000   \n",
       "mean               2.729008     10.047801      4.810251      1.882134   \n",
       "std                1.732756     20.467926     13.402154      5.185202   \n",
       "min                1.000000      1.000000      1.000000      1.000000   \n",
       "25%                1.000000      3.000000      2.000000      1.000000   \n",
       "50%                3.000000      6.000000      3.000000      2.000000   \n",
       "75%                4.000000      9.000000      4.000000      2.000000   \n",
       "max                9.000000     99.000000     99.000000     99.000000   \n",
       "\n",
       "        WEIGHT_W119  \n",
       "count  11004.000000  \n",
       "mean       1.000000  \n",
       "std        1.150309  \n",
       "min        0.008109  \n",
       "25%        0.397223  \n",
       "50%        0.634431  \n",
       "75%        1.093206  \n",
       "max        7.195378  \n",
       "\n",
       "[8 rows x 105 columns]"
      ]
     },
     "execution_count": 4,
     "metadata": {},
     "output_type": "execute_result"
    }
   ],
   "source": [
    "df.describe()"
   ]
  },
  {
   "cell_type": "code",
   "execution_count": 5,
   "id": "0e2d55a2",
   "metadata": {},
   "outputs": [
    {
     "name": "stdout",
     "output_type": "stream",
     "text": [
      "<class 'pandas.core.frame.DataFrame'>\n",
      "RangeIndex: 11004 entries, 0 to 11003\n",
      "Columns: 156 entries, QKEY to WEIGHT_W119\n",
      "dtypes: float64(1), int64(104), object(51)\n",
      "memory usage: 13.1+ MB\n"
     ]
    }
   ],
   "source": [
    "df.info()"
   ]
  },
  {
   "cell_type": "code",
   "execution_count": 6,
   "id": "26ebb74f",
   "metadata": {},
   "outputs": [
    {
     "data": {
      "text/html": [
       "<div>\n",
       "<style scoped>\n",
       "    .dataframe tbody tr th:only-of-type {\n",
       "        vertical-align: middle;\n",
       "    }\n",
       "\n",
       "    .dataframe tbody tr th {\n",
       "        vertical-align: top;\n",
       "    }\n",
       "\n",
       "    .dataframe thead th {\n",
       "        text-align: right;\n",
       "    }\n",
       "</style>\n",
       "<table border=\"1\" class=\"dataframe\">\n",
       "  <thead>\n",
       "    <tr style=\"text-align: right;\">\n",
       "      <th></th>\n",
       "      <th>AIWRKH4_W119</th>\n",
       "    </tr>\n",
       "  </thead>\n",
       "  <tbody>\n",
       "    <tr>\n",
       "      <th>count</th>\n",
       "      <td>11004.000000</td>\n",
       "    </tr>\n",
       "    <tr>\n",
       "      <th>mean</th>\n",
       "      <td>3.712741</td>\n",
       "    </tr>\n",
       "    <tr>\n",
       "      <th>std</th>\n",
       "      <td>14.023296</td>\n",
       "    </tr>\n",
       "    <tr>\n",
       "      <th>min</th>\n",
       "      <td>1.000000</td>\n",
       "    </tr>\n",
       "    <tr>\n",
       "      <th>25%</th>\n",
       "      <td>1.000000</td>\n",
       "    </tr>\n",
       "    <tr>\n",
       "      <th>50%</th>\n",
       "      <td>2.000000</td>\n",
       "    </tr>\n",
       "    <tr>\n",
       "      <th>75%</th>\n",
       "      <td>2.000000</td>\n",
       "    </tr>\n",
       "    <tr>\n",
       "      <th>max</th>\n",
       "      <td>99.000000</td>\n",
       "    </tr>\n",
       "  </tbody>\n",
       "</table>\n",
       "</div>"
      ],
      "text/plain": [
       "       AIWRKH4_W119\n",
       "count  11004.000000\n",
       "mean       3.712741\n",
       "std       14.023296\n",
       "min        1.000000\n",
       "25%        1.000000\n",
       "50%        2.000000\n",
       "75%        2.000000\n",
       "max       99.000000"
      ]
     },
     "execution_count": 6,
     "metadata": {},
     "output_type": "execute_result"
    }
   ],
   "source": [
    "df[['AIWRKH4_W119']].describe()"
   ]
  },
  {
   "cell_type": "code",
   "execution_count": 7,
   "id": "2bbad9a0",
   "metadata": {},
   "outputs": [
    {
     "data": {
      "text/html": [
       "<div>\n",
       "<style scoped>\n",
       "    .dataframe tbody tr th:only-of-type {\n",
       "        vertical-align: middle;\n",
       "    }\n",
       "\n",
       "    .dataframe tbody tr th {\n",
       "        vertical-align: top;\n",
       "    }\n",
       "\n",
       "    .dataframe thead th {\n",
       "        text-align: right;\n",
       "    }\n",
       "</style>\n",
       "<table border=\"1\" class=\"dataframe\">\n",
       "  <thead>\n",
       "    <tr style=\"text-align: right;\">\n",
       "      <th></th>\n",
       "      <th>F_AGECAT</th>\n",
       "    </tr>\n",
       "  </thead>\n",
       "  <tbody>\n",
       "    <tr>\n",
       "      <th>0</th>\n",
       "      <td>4</td>\n",
       "    </tr>\n",
       "    <tr>\n",
       "      <th>1</th>\n",
       "      <td>2</td>\n",
       "    </tr>\n",
       "    <tr>\n",
       "      <th>2</th>\n",
       "      <td>3</td>\n",
       "    </tr>\n",
       "    <tr>\n",
       "      <th>3</th>\n",
       "      <td>4</td>\n",
       "    </tr>\n",
       "    <tr>\n",
       "      <th>4</th>\n",
       "      <td>4</td>\n",
       "    </tr>\n",
       "    <tr>\n",
       "      <th>...</th>\n",
       "      <td>...</td>\n",
       "    </tr>\n",
       "    <tr>\n",
       "      <th>10999</th>\n",
       "      <td>4</td>\n",
       "    </tr>\n",
       "    <tr>\n",
       "      <th>11000</th>\n",
       "      <td>2</td>\n",
       "    </tr>\n",
       "    <tr>\n",
       "      <th>11001</th>\n",
       "      <td>1</td>\n",
       "    </tr>\n",
       "    <tr>\n",
       "      <th>11002</th>\n",
       "      <td>2</td>\n",
       "    </tr>\n",
       "    <tr>\n",
       "      <th>11003</th>\n",
       "      <td>1</td>\n",
       "    </tr>\n",
       "  </tbody>\n",
       "</table>\n",
       "<p>11004 rows × 1 columns</p>\n",
       "</div>"
      ],
      "text/plain": [
       "       F_AGECAT\n",
       "0             4\n",
       "1             2\n",
       "2             3\n",
       "3             4\n",
       "4             4\n",
       "...         ...\n",
       "10999         4\n",
       "11000         2\n",
       "11001         1\n",
       "11002         2\n",
       "11003         1\n",
       "\n",
       "[11004 rows x 1 columns]"
      ]
     },
     "execution_count": 7,
     "metadata": {},
     "output_type": "execute_result"
    }
   ],
   "source": [
    "df[['F_AGECAT']]"
   ]
  },
  {
   "cell_type": "code",
   "execution_count": 8,
   "id": "7739338a",
   "metadata": {},
   "outputs": [
    {
     "data": {
      "text/plain": [
       "count    11004.000000\n",
       "mean         2.892403\n",
       "std         11.751628\n",
       "min          1.000000\n",
       "25%          1.000000\n",
       "50%          1.000000\n",
       "75%          2.000000\n",
       "max         99.000000\n",
       "Name: F_RACECMB, dtype: float64"
      ]
     },
     "execution_count": 8,
     "metadata": {},
     "output_type": "execute_result"
    }
   ],
   "source": [
    "df['F_RACECMB'].describe()"
   ]
  },
  {
   "cell_type": "code",
   "execution_count": 9,
   "id": "409cdd30",
   "metadata": {},
   "outputs": [
    {
     "data": {
      "text/plain": [
       "array([ 1,  2, 99,  3])"
      ]
     },
     "execution_count": 9,
     "metadata": {},
     "output_type": "execute_result"
    }
   ],
   "source": [
    "df['F_GENDER'].unique()"
   ]
  },
  {
   "cell_type": "code",
   "execution_count": 10,
   "id": "d7384a0b",
   "metadata": {},
   "outputs": [
    {
     "data": {
      "text/plain": [
       "F_AGECAT\n",
       "2     3514\n",
       "4     3367\n",
       "3     3157\n",
       "1      930\n",
       "99      36\n",
       "Name: count, dtype: int64"
      ]
     },
     "execution_count": 10,
     "metadata": {},
     "output_type": "execute_result"
    }
   ],
   "source": [
    "df['F_AGECAT'].value_counts()"
   ]
  },
  {
   "cell_type": "code",
   "execution_count": 11,
   "id": "9f017bcd",
   "metadata": {},
   "outputs": [
    {
     "data": {
      "text/plain": [
       "F_GENDER\n",
       "2     5993\n",
       "1     4884\n",
       "3       96\n",
       "99      31\n",
       "Name: count, dtype: int64"
      ]
     },
     "execution_count": 11,
     "metadata": {},
     "output_type": "execute_result"
    }
   ],
   "source": [
    "df['F_GENDER'].value_counts()"
   ]
  },
  {
   "cell_type": "code",
   "execution_count": 12,
   "id": "451f1cf2",
   "metadata": {},
   "outputs": [
    {
     "data": {
      "text/plain": [
       "count    11004.000000\n",
       "mean         1.979189\n",
       "std          4.555775\n",
       "min          1.000000\n",
       "25%          2.000000\n",
       "50%          2.000000\n",
       "75%          2.000000\n",
       "max         99.000000\n",
       "Name: JOBAPPYR_W119, dtype: float64"
      ]
     },
     "execution_count": 12,
     "metadata": {},
     "output_type": "execute_result"
    }
   ],
   "source": [
    "df['JOBAPPYR_W119'].describe()"
   ]
  },
  {
   "cell_type": "code",
   "execution_count": 13,
   "id": "2810e547",
   "metadata": {},
   "outputs": [
    {
     "data": {
      "text/html": [
       "<div>\n",
       "<style scoped>\n",
       "    .dataframe tbody tr th:only-of-type {\n",
       "        vertical-align: middle;\n",
       "    }\n",
       "\n",
       "    .dataframe tbody tr th {\n",
       "        vertical-align: top;\n",
       "    }\n",
       "\n",
       "    .dataframe thead th {\n",
       "        text-align: right;\n",
       "    }\n",
       "</style>\n",
       "<table border=\"1\" class=\"dataframe\">\n",
       "  <thead>\n",
       "    <tr style=\"text-align: right;\">\n",
       "      <th></th>\n",
       "      <th>F_GENDER</th>\n",
       "      <th>F_EDUCCAT</th>\n",
       "      <th>F_RACECMB</th>\n",
       "      <th>F_AGECAT</th>\n",
       "      <th>EMPLSIT_W119</th>\n",
       "      <th>JOBAPPYR_W119</th>\n",
       "      <th>INDUSTRYCOMBO_W119</th>\n",
       "    </tr>\n",
       "  </thead>\n",
       "  <tbody>\n",
       "    <tr>\n",
       "      <th>0</th>\n",
       "      <td>1</td>\n",
       "      <td>2</td>\n",
       "      <td>1</td>\n",
       "      <td>4</td>\n",
       "      <td>5</td>\n",
       "      <td>2</td>\n",
       "      <td></td>\n",
       "    </tr>\n",
       "    <tr>\n",
       "      <th>1</th>\n",
       "      <td>2</td>\n",
       "      <td>1</td>\n",
       "      <td>1</td>\n",
       "      <td>2</td>\n",
       "      <td>2</td>\n",
       "      <td>1</td>\n",
       "      <td>2</td>\n",
       "    </tr>\n",
       "    <tr>\n",
       "      <th>2</th>\n",
       "      <td>2</td>\n",
       "      <td>1</td>\n",
       "      <td>1</td>\n",
       "      <td>3</td>\n",
       "      <td>1</td>\n",
       "      <td>2</td>\n",
       "      <td>6</td>\n",
       "    </tr>\n",
       "    <tr>\n",
       "      <th>3</th>\n",
       "      <td>2</td>\n",
       "      <td>2</td>\n",
       "      <td>1</td>\n",
       "      <td>4</td>\n",
       "      <td>3</td>\n",
       "      <td>2</td>\n",
       "      <td></td>\n",
       "    </tr>\n",
       "    <tr>\n",
       "      <th>4</th>\n",
       "      <td>1</td>\n",
       "      <td>1</td>\n",
       "      <td>1</td>\n",
       "      <td>4</td>\n",
       "      <td>5</td>\n",
       "      <td>2</td>\n",
       "      <td></td>\n",
       "    </tr>\n",
       "    <tr>\n",
       "      <th>5</th>\n",
       "      <td>1</td>\n",
       "      <td>2</td>\n",
       "      <td>1</td>\n",
       "      <td>4</td>\n",
       "      <td>5</td>\n",
       "      <td>2</td>\n",
       "      <td></td>\n",
       "    </tr>\n",
       "    <tr>\n",
       "      <th>6</th>\n",
       "      <td>2</td>\n",
       "      <td>2</td>\n",
       "      <td>1</td>\n",
       "      <td>3</td>\n",
       "      <td>4</td>\n",
       "      <td>2</td>\n",
       "      <td></td>\n",
       "    </tr>\n",
       "    <tr>\n",
       "      <th>7</th>\n",
       "      <td>1</td>\n",
       "      <td>2</td>\n",
       "      <td>1</td>\n",
       "      <td>3</td>\n",
       "      <td>4</td>\n",
       "      <td>2</td>\n",
       "      <td></td>\n",
       "    </tr>\n",
       "    <tr>\n",
       "      <th>8</th>\n",
       "      <td>2</td>\n",
       "      <td>1</td>\n",
       "      <td>1</td>\n",
       "      <td>1</td>\n",
       "      <td>2</td>\n",
       "      <td>1</td>\n",
       "      <td>5</td>\n",
       "    </tr>\n",
       "    <tr>\n",
       "      <th>9</th>\n",
       "      <td>2</td>\n",
       "      <td>2</td>\n",
       "      <td>1</td>\n",
       "      <td>4</td>\n",
       "      <td>5</td>\n",
       "      <td>2</td>\n",
       "      <td></td>\n",
       "    </tr>\n",
       "  </tbody>\n",
       "</table>\n",
       "</div>"
      ],
      "text/plain": [
       "   F_GENDER  F_EDUCCAT  F_RACECMB  F_AGECAT  EMPLSIT_W119  JOBAPPYR_W119  \\\n",
       "0         1          2          1         4             5              2   \n",
       "1         2          1          1         2             2              1   \n",
       "2         2          1          1         3             1              2   \n",
       "3         2          2          1         4             3              2   \n",
       "4         1          1          1         4             5              2   \n",
       "5         1          2          1         4             5              2   \n",
       "6         2          2          1         3             4              2   \n",
       "7         1          2          1         3             4              2   \n",
       "8         2          1          1         1             2              1   \n",
       "9         2          2          1         4             5              2   \n",
       "\n",
       "  INDUSTRYCOMBO_W119  \n",
       "0                     \n",
       "1                  2  \n",
       "2                  6  \n",
       "3                     \n",
       "4                     \n",
       "5                     \n",
       "6                     \n",
       "7                     \n",
       "8                  5  \n",
       "9                     "
      ]
     },
     "execution_count": 13,
     "metadata": {},
     "output_type": "execute_result"
    }
   ],
   "source": [
    "df[['F_GENDER', 'F_EDUCCAT', 'F_RACECMB', 'F_AGECAT','EMPLSIT_W119','JOBAPPYR_W119','INDUSTRYCOMBO_W119']].head(10)"
   ]
  },
  {
   "cell_type": "code",
   "execution_count": 14,
   "id": "8ba6b2a7",
   "metadata": {},
   "outputs": [
    {
     "data": {
      "text/plain": [
       "AIKNOW_INDEX_W119\n",
       "6    3600\n",
       "5    1905\n",
       "4    1417\n",
       "0    1251\n",
       "3    1094\n",
       "2     929\n",
       "1     808\n",
       "Name: count, dtype: int64"
      ]
     },
     "execution_count": 14,
     "metadata": {},
     "output_type": "execute_result"
    }
   ],
   "source": [
    "df['AIKNOW_INDEX_W119'].value_counts()"
   ]
  },
  {
   "cell_type": "code",
   "execution_count": 15,
   "id": "5e31f15b",
   "metadata": {},
   "outputs": [],
   "source": [
    "# DATA CLEANING \n"
   ]
  },
  {
   "cell_type": "code",
   "execution_count": 16,
   "id": "c1a7f2fc",
   "metadata": {},
   "outputs": [],
   "source": [
    "master_dataset = df[['F_GENDER', 'F_EDUCCAT', 'F_RACECMB', 'F_AGECAT','EMPLSIT_W119','JOBAPPYR_W119','INDUSTRYCOMBO_W119', 'AIKNOW_INDEX_W119', 'QKEY']].copy() "
   ]
  },
  {
   "cell_type": "code",
   "execution_count": 17,
   "id": "d19b5796",
   "metadata": {},
   "outputs": [
    {
     "data": {
      "text/plain": [
       "np.int64(0)"
      ]
     },
     "execution_count": 17,
     "metadata": {},
     "output_type": "execute_result"
    }
   ],
   "source": [
    "master_dataset['QKEY'].duplicated().sum()"
   ]
  },
  {
   "cell_type": "code",
   "execution_count": 18,
   "id": "843e9fef",
   "metadata": {},
   "outputs": [
    {
     "data": {
      "text/plain": [
       "F_GENDER              0\n",
       "F_EDUCCAT             0\n",
       "F_RACECMB             0\n",
       "F_AGECAT              0\n",
       "EMPLSIT_W119          0\n",
       "JOBAPPYR_W119         0\n",
       "INDUSTRYCOMBO_W119    0\n",
       "AIKNOW_INDEX_W119     0\n",
       "QKEY                  0\n",
       "dtype: int64"
      ]
     },
     "execution_count": 18,
     "metadata": {},
     "output_type": "execute_result"
    }
   ],
   "source": [
    "master_dataset.isnull().sum()"
   ]
  },
  {
   "cell_type": "code",
   "execution_count": 19,
   "id": "ea357d93",
   "metadata": {},
   "outputs": [
    {
     "data": {
      "text/plain": [
       "F_GENDER              0\n",
       "F_EDUCCAT             0\n",
       "F_RACECMB             0\n",
       "F_AGECAT              0\n",
       "EMPLSIT_W119          0\n",
       "JOBAPPYR_W119         0\n",
       "INDUSTRYCOMBO_W119    0\n",
       "AIKNOW_INDEX_W119     0\n",
       "QKEY                  0\n",
       "dtype: int64"
      ]
     },
     "execution_count": 19,
     "metadata": {},
     "output_type": "execute_result"
    }
   ],
   "source": [
    "master_dataset.isna().sum()"
   ]
  },
  {
   "cell_type": "code",
   "execution_count": 20,
   "id": "8d58025e",
   "metadata": {},
   "outputs": [
    {
     "data": {
      "text/plain": [
       "F_GENDER\n",
       "2     5993\n",
       "1     4884\n",
       "3       96\n",
       "99      31\n",
       "Name: count, dtype: int64"
      ]
     },
     "execution_count": 20,
     "metadata": {},
     "output_type": "execute_result"
    }
   ],
   "source": [
    "master_dataset['F_GENDER'].value_counts()"
   ]
  },
  {
   "cell_type": "code",
   "execution_count": 21,
   "id": "12a23f4a",
   "metadata": {},
   "outputs": [
    {
     "data": {
      "text/html": [
       "<div>\n",
       "<style scoped>\n",
       "    .dataframe tbody tr th:only-of-type {\n",
       "        vertical-align: middle;\n",
       "    }\n",
       "\n",
       "    .dataframe tbody tr th {\n",
       "        vertical-align: top;\n",
       "    }\n",
       "\n",
       "    .dataframe thead th {\n",
       "        text-align: right;\n",
       "    }\n",
       "</style>\n",
       "<table border=\"1\" class=\"dataframe\">\n",
       "  <thead>\n",
       "    <tr style=\"text-align: right;\">\n",
       "      <th></th>\n",
       "      <th>F_GENDER</th>\n",
       "      <th>F_EDUCCAT</th>\n",
       "      <th>F_RACECMB</th>\n",
       "      <th>F_AGECAT</th>\n",
       "      <th>EMPLSIT_W119</th>\n",
       "      <th>JOBAPPYR_W119</th>\n",
       "      <th>AIKNOW_INDEX_W119</th>\n",
       "      <th>QKEY</th>\n",
       "    </tr>\n",
       "  </thead>\n",
       "  <tbody>\n",
       "    <tr>\n",
       "      <th>count</th>\n",
       "      <td>11004.000000</td>\n",
       "      <td>11004.000000</td>\n",
       "      <td>11004.000000</td>\n",
       "      <td>11004.000000</td>\n",
       "      <td>11004.000000</td>\n",
       "      <td>11004.000000</td>\n",
       "      <td>11004.000000</td>\n",
       "      <td>1.100400e+04</td>\n",
       "    </tr>\n",
       "    <tr>\n",
       "      <th>mean</th>\n",
       "      <td>1.838150</td>\n",
       "      <td>1.965013</td>\n",
       "      <td>2.892403</td>\n",
       "      <td>3.131679</td>\n",
       "      <td>2.913032</td>\n",
       "      <td>1.979189</td>\n",
       "      <td>3.884133</td>\n",
       "      <td>1.772323e+11</td>\n",
       "    </tr>\n",
       "    <tr>\n",
       "      <th>std</th>\n",
       "      <td>5.189937</td>\n",
       "      <td>5.213915</td>\n",
       "      <td>11.751628</td>\n",
       "      <td>5.576680</td>\n",
       "      <td>6.325789</td>\n",
       "      <td>4.555775</td>\n",
       "      <td>2.094194</td>\n",
       "      <td>6.611107e+10</td>\n",
       "    </tr>\n",
       "    <tr>\n",
       "      <th>min</th>\n",
       "      <td>1.000000</td>\n",
       "      <td>1.000000</td>\n",
       "      <td>1.000000</td>\n",
       "      <td>1.000000</td>\n",
       "      <td>1.000000</td>\n",
       "      <td>1.000000</td>\n",
       "      <td>0.000000</td>\n",
       "      <td>1.003140e+05</td>\n",
       "    </tr>\n",
       "    <tr>\n",
       "      <th>25%</th>\n",
       "      <td>1.000000</td>\n",
       "      <td>1.000000</td>\n",
       "      <td>1.000000</td>\n",
       "      <td>2.000000</td>\n",
       "      <td>1.000000</td>\n",
       "      <td>2.000000</td>\n",
       "      <td>2.000000</td>\n",
       "      <td>2.018010e+11</td>\n",
       "    </tr>\n",
       "    <tr>\n",
       "      <th>50%</th>\n",
       "      <td>2.000000</td>\n",
       "      <td>2.000000</td>\n",
       "      <td>1.000000</td>\n",
       "      <td>3.000000</td>\n",
       "      <td>2.000000</td>\n",
       "      <td>2.000000</td>\n",
       "      <td>5.000000</td>\n",
       "      <td>2.018012e+11</td>\n",
       "    </tr>\n",
       "    <tr>\n",
       "      <th>75%</th>\n",
       "      <td>2.000000</td>\n",
       "      <td>2.000000</td>\n",
       "      <td>2.000000</td>\n",
       "      <td>4.000000</td>\n",
       "      <td>5.000000</td>\n",
       "      <td>2.000000</td>\n",
       "      <td>6.000000</td>\n",
       "      <td>2.020010e+11</td>\n",
       "    </tr>\n",
       "    <tr>\n",
       "      <th>max</th>\n",
       "      <td>99.000000</td>\n",
       "      <td>99.000000</td>\n",
       "      <td>99.000000</td>\n",
       "      <td>99.000000</td>\n",
       "      <td>99.000000</td>\n",
       "      <td>99.000000</td>\n",
       "      <td>6.000000</td>\n",
       "      <td>2.022011e+11</td>\n",
       "    </tr>\n",
       "  </tbody>\n",
       "</table>\n",
       "</div>"
      ],
      "text/plain": [
       "           F_GENDER     F_EDUCCAT     F_RACECMB      F_AGECAT  EMPLSIT_W119  \\\n",
       "count  11004.000000  11004.000000  11004.000000  11004.000000  11004.000000   \n",
       "mean       1.838150      1.965013      2.892403      3.131679      2.913032   \n",
       "std        5.189937      5.213915     11.751628      5.576680      6.325789   \n",
       "min        1.000000      1.000000      1.000000      1.000000      1.000000   \n",
       "25%        1.000000      1.000000      1.000000      2.000000      1.000000   \n",
       "50%        2.000000      2.000000      1.000000      3.000000      2.000000   \n",
       "75%        2.000000      2.000000      2.000000      4.000000      5.000000   \n",
       "max       99.000000     99.000000     99.000000     99.000000     99.000000   \n",
       "\n",
       "       JOBAPPYR_W119  AIKNOW_INDEX_W119          QKEY  \n",
       "count   11004.000000       11004.000000  1.100400e+04  \n",
       "mean        1.979189           3.884133  1.772323e+11  \n",
       "std         4.555775           2.094194  6.611107e+10  \n",
       "min         1.000000           0.000000  1.003140e+05  \n",
       "25%         2.000000           2.000000  2.018010e+11  \n",
       "50%         2.000000           5.000000  2.018012e+11  \n",
       "75%         2.000000           6.000000  2.020010e+11  \n",
       "max        99.000000           6.000000  2.022011e+11  "
      ]
     },
     "execution_count": 21,
     "metadata": {},
     "output_type": "execute_result"
    }
   ],
   "source": [
    "master_dataset.describe()"
   ]
  },
  {
   "cell_type": "code",
   "execution_count": 22,
   "id": "0852c635",
   "metadata": {},
   "outputs": [
    {
     "data": {
      "text/plain": [
       "F_GENDER               31\n",
       "F_EDUCCAT              31\n",
       "F_RACECMB             161\n",
       "F_AGECAT               36\n",
       "EMPLSIT_W119           44\n",
       "JOBAPPYR_W119          24\n",
       "INDUSTRYCOMBO_W119      0\n",
       "AIKNOW_INDEX_W119       0\n",
       "QKEY                    0\n",
       "dtype: int64"
      ]
     },
     "execution_count": 22,
     "metadata": {},
     "output_type": "execute_result"
    }
   ],
   "source": [
    "(master_dataset == 99).sum()"
   ]
  },
  {
   "cell_type": "code",
   "execution_count": 23,
   "id": "0a3caadf",
   "metadata": {},
   "outputs": [],
   "source": [
    "master_dataset = master_dataset[~(master_dataset == 99).any(axis=1)] # We remove rows with 99 in any column"
   ]
  },
  {
   "cell_type": "code",
   "execution_count": 24,
   "id": "f955d68d",
   "metadata": {},
   "outputs": [],
   "source": [
    "master_dataset = master_dataset[~(master_dataset['F_GENDER'] == 3)] # We also remove the 3rd gender category."
   ]
  },
  {
   "cell_type": "code",
   "execution_count": 25,
   "id": "2a59a6f9",
   "metadata": {},
   "outputs": [
    {
     "data": {
      "text/plain": [
       "F_GENDER\n",
       "2    5852\n",
       "1    4777\n",
       "Name: count, dtype: int64"
      ]
     },
     "execution_count": 25,
     "metadata": {},
     "output_type": "execute_result"
    }
   ],
   "source": [
    "master_dataset['F_GENDER'].value_counts()"
   ]
  },
  {
   "cell_type": "code",
   "execution_count": 26,
   "id": "f4311ad2",
   "metadata": {},
   "outputs": [
    {
     "data": {
      "text/plain": [
       "<seaborn.axisgrid.PairGrid at 0x1de31a86510>"
      ]
     },
     "execution_count": 26,
     "metadata": {},
     "output_type": "execute_result"
    },
    {
     "data": {
      "image/png": "[encoded data removed]",
      "text/plain": [
       "<Figure size 2000x2000 with 72 Axes>"
      ]
     },
     "metadata": {},
     "output_type": "display_data"
    }
   ],
   "source": [
    "# EXPLORATORY DATA ANALYSIS \n",
    "\n",
    "sns.pairplot(master_dataset)"
   ]
  },
  {
   "cell_type": "code",
   "execution_count": 27,
   "id": "b6daa1a9",
   "metadata": {},
   "outputs": [],
   "source": [
    "# BIVARIATE ANALYSIS "
   ]
  },
  {
   "cell_type": "code",
   "execution_count": 28,
   "id": "4fcbda3f",
   "metadata": {},
   "outputs": [
    {
     "data": {
      "text/plain": [
       "AIKNOW_INDEX_W119\n",
       "6    3486\n",
       "5    1853\n",
       "4    1380\n",
       "0    1185\n",
       "3    1049\n",
       "2     895\n",
       "1     781\n",
       "Name: count, dtype: int64"
      ]
     },
     "execution_count": 28,
     "metadata": {},
     "output_type": "execute_result"
    }
   ],
   "source": [
    "master_dataset['AIKNOW_INDEX_W119'].value_counts()"
   ]
  },
  {
   "cell_type": "code",
   "execution_count": 29,
   "id": "a5623d6c",
   "metadata": {},
   "outputs": [
    {
     "data": {
      "text/plain": [
       "<Axes: xlabel='AIKNOW_INDEX_W119', ylabel='Count'>"
      ]
     },
     "execution_count": 29,
     "metadata": {},
     "output_type": "execute_result"
    },
    {
     "data": {
      "image/png": "[encoded data removed]",
      "text/plain": [
       "<Figure size 640x480 with 1 Axes>"
      ]
     },
     "metadata": {},
     "output_type": "display_data"
    }
   ],
   "source": [
    "sns.histplot(x='AIKNOW_INDEX_W119', data=master_dataset)"
   ]
  },
  {
   "cell_type": "code",
   "execution_count": 30,
   "id": "56253de0",
   "metadata": {},
   "outputs": [
    {
     "data": {
      "text/plain": [
       "<Axes: xlabel='AIKNOW_INDEX_W119'>"
      ]
     },
     "execution_count": 30,
     "metadata": {},
     "output_type": "execute_result"
    },
    {
     "data": {
      "image/png": "[encoded data removed]",
      "text/plain": [
       "<Figure size 640x480 with 1 Axes>"
      ]
     },
     "metadata": {},
     "output_type": "display_data"
    }
   ],
   "source": [
    "sns.boxplot(x='AIKNOW_INDEX_W119', data=master_dataset)"
   ]
  },
  {
   "cell_type": "code",
   "execution_count": 31,
   "id": "87f2bc6c",
   "metadata": {},
   "outputs": [
    {
     "data": {
      "text/plain": [
       "<Axes: xlabel='F_GENDER', ylabel='count'>"
      ]
     },
     "execution_count": 31,
     "metadata": {},
     "output_type": "execute_result"
    },
    {
     "data": {
      "image/png": "[encoded data removed]",
      "text/plain": [
       "<Figure size 640x480 with 1 Axes>"
      ]
     },
     "metadata": {},
     "output_type": "display_data"
    }
   ],
   "source": [
    "sns.countplot(x='F_GENDER',data=master_dataset)"
   ]
  },
  {
   "cell_type": "code",
   "execution_count": 32,
   "id": "23d731db",
   "metadata": {},
   "outputs": [
    {
     "data": {
      "text/plain": [
       "<Axes: xlabel='F_AGECAT', ylabel='AIKNOW_INDEX_W119'>"
      ]
     },
     "execution_count": 32,
     "metadata": {},
     "output_type": "execute_result"
    },
    {
     "data": {
      "image/png": "[encoded data removed]",
      "text/plain": [
       "<Figure size 640x480 with 1 Axes>"
      ]
     },
     "metadata": {},
     "output_type": "display_data"
    }
   ],
   "source": [
    "sns.boxplot(x='F_AGECAT', y='AIKNOW_INDEX_W119', data=master_dataset)"
   ]
  },
  {
   "cell_type": "code",
   "execution_count": 44,
   "id": "294effbd",
   "metadata": {},
   "outputs": [
    {
     "name": "stderr",
     "output_type": "stream",
     "text": [
      "C:\\Users\\andno\\AppData\\Local\\Temp\\ipykernel_150464\\3553239401.py:6: FutureWarning: \n",
      "\n",
      "Passing `palette` without assigning `hue` is deprecated and will be removed in v0.14.0. Assign the `x` variable to `hue` and set `legend=False` for the same effect.\n",
      "\n",
      "  sns.barplot(x='F_AGECAT', y='AIKNOW_INDEX_W119', data=agecat_index_avg, palette='viridis')\n"
     ]
    },
    {
     "data": {
      "image/png": "[encoded data removed]",
      "text/plain": [
       "<Figure size 1000x600 with 1 Axes>"
      ]
     },
     "metadata": {},
     "output_type": "display_data"
    }
   ],
   "source": [
    "agecat_index_avg = master_dataset.groupby('F_AGECAT')['AIKNOW_INDEX_W119'].mean().reset_index()\n",
    "agecat_index_avg['F_AGECAT'] = agecat_index_avg['F_AGECAT'].map({1: '18-24', 2: '25-34', 3: '35-44', 4: '45-54'})\n",
    "\n",
    "plt.figure(figsize=(10, 6))\n",
    "plt.title('Average AIKNOW Index by Age Category')\n",
    "sns.barplot(x='F_AGECAT', y='AIKNOW_INDEX_W119', data=agecat_index_avg, palette='viridis')\n",
    "plt.ylabel('Average AIKNOW Index') \n",
    "plt.xlabel('Age Category')\n",
    "plt.show()"
   ]
  },
  {
   "cell_type": "code",
   "execution_count": null,
   "id": "62263167",
   "metadata": {},
   "outputs": [],
   "source": []
  },
  {
   "cell_type": "code",
   "execution_count": null,
   "id": "607e6713",
   "metadata": {},
   "outputs": [
    {
     "data": {
      "text/plain": [
       "array([2, 1, 3])"
      ]
     },
     "execution_count": 47,
     "metadata": {},
     "output_type": "execute_result"
    }
   ],
   "source": [
    "educcat_index_avg = master_dataset.groupby('F_EDUCCAT')['AIKNOW_INDEX_W119'].mean().reset_index()\n",
    "educcat_index_avg['F_EDUCCAT'] = educcat_index_avg['F_EDUCCAT'].map({1: 'High School', 2:'College', 3: 'College Graduate or Higher'})\n",
    "\n",
    "plt.figure(figsize=(10, 6))"
   ]
  }
 ],
 "metadata": {
  "kernelspec": {
   "display_name": "Python 3",
   "language": "python",
   "name": "python3"
  },
  "language_info": {
   "codemirror_mode": {
    "name": "ipython",
    "version": 3
   },
   "file_extension": ".py",
   "mimetype": "text/x-python",
   "name": "python",
   "nbconvert_exporter": "python",
   "pygments_lexer": "ipython3",
   "version": "3.11.9"
  }
 },
 "nbformat": 4,
 "nbformat_minor": 5
}
