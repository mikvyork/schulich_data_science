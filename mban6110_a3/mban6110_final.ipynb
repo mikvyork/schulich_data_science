{
 "cells": [
  {
   "cell_type": "code",
   "execution_count": 26,
   "id": "23f28392",
   "metadata": {},
   "outputs": [
    {
     "name": "stdout",
     "output_type": "stream",
     "text": [
      "Downloading from https://www.kaggle.com/api/v1/datasets/download/ratin21/nba-player-stats-and-salaries-2000-2025?dataset_version_number=1...\n"
     ]
    },
    {
     "name": "stderr",
     "output_type": "stream",
     "text": [
      "100%|██████████| 536k/536k [00:00<00:00, 6.16MB/s]"
     ]
    },
    {
     "name": "stdout",
     "output_type": "stream",
     "text": [
      "Extracting files...\n"
     ]
    },
    {
     "name": "stderr",
     "output_type": "stream",
     "text": [
      "\n"
     ]
    }
   ],
   "source": [
    "import pandas as pd \n",
    "import matplotlib.pyplot as plt \n",
    "import numpy as np\n",
    "import seaborn as sns \n",
    "from sklearn.ensemble import RandomForestRegressor\n",
    "from sklearn.model_selection import train_test_split, GridSearchCV\n",
    "from sklearn.preprocessing import StandardScaler\n",
    "from sklearn.metrics import r2_score, mean_squared_error\n",
    "import kagglehub\n",
    "import os \n",
    "\n",
    "nba_stats_path = kagglehub.dataset_download(\"rodneycarroll78/nba-stats-1980-2024\")\n",
    "salary_path = kagglehub.dataset_download(\"ratin21/nba-player-stats-and-salaries-2000-2025\")\n",
    "\n"
   ]
  },
  {
   "cell_type": "code",
   "execution_count": 30,
   "id": "fa3d8912",
   "metadata": {},
   "outputs": [],
   "source": [
    "advanced_80to24 = pd.read_csv(os.path.join(nba_stats_path, 'Advanced.csv'))\n",
    "ppg_80to24 = pd.read_csv(os.path.join(nba_stats_path, 'Player Per Game.csv'))\n",
    "season_info_80to24 = pd.read_csv(os.path.join(nba_stats_path, 'Player Season Info.csv'))\n",
    "salaries_00to25 = pd.read_csv(os.path.join(salary_path, 'NBA Player Stats and Salaries_2000-2025.csv'))\n",
    "recent_season = pd.read_csv(\"C:/Users/Mik/OneDrive/Documents/2425regseason.csv\")\n"
   ]
  }
 ],
 "metadata": {
  "kernelspec": {
   "display_name": "Python 3",
   "language": "python",
   "name": "python3"
  },
  "language_info": {
   "codemirror_mode": {
    "name": "ipython",
    "version": 3
   },
   "file_extension": ".py",
   "mimetype": "text/x-python",
   "name": "python",
   "nbconvert_exporter": "python",
   "pygments_lexer": "ipython3",
   "version": "3.11.9"
  }
 },
 "nbformat": 4,
 "nbformat_minor": 5
}
